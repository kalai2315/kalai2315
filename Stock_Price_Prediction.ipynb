{
  "nbformat": 4,
  "nbformat_minor": 0,
  "metadata": {
    "colab": {
      "provenance": [],
      "authorship_tag": "ABX9TyOot3bwqFKArhj/zql8rD/7",
      "include_colab_link": true
    },
    "kernelspec": {
      "name": "python3",
      "display_name": "Python 3"
    },
    "language_info": {
      "name": "python"
    }
  },
  "cells": [
    {
      "cell_type": "markdown",
      "metadata": {
        "id": "view-in-github",
        "colab_type": "text"
      },
      "source": [
        "<a href=\"https://colab.research.google.com/github/kalai2315/kalai2315/blob/main/Stock_Price_Prediction.ipynb\" target=\"_parent\"><img src=\"https://colab.research.google.com/assets/colab-badge.svg\" alt=\"Open In Colab\"/></a>"
      ]
    },
    {
      "cell_type": "markdown",
      "source": [
        "**Stock Price Prediction Project using TensorFlow**"
      ],
      "metadata": {
        "id": "GwBayiVONrS6"
      }
    },
    {
      "cell_type": "code",
      "source": [
        "import pandas as pd\n",
        "import numpy as np\n",
        "import matplotlib.pyplot as plt\n"
      ],
      "metadata": {
        "id": "VdudA8taN16l"
      },
      "execution_count": 1,
      "outputs": []
    },
    {
      "cell_type": "code",
      "source": [
        "df=pd.read_csv(\"/content/BHARTIARTL (1).csv\",parse_dates=True,index_col='Date')"
      ],
      "metadata": {
        "id": "Yg4D1O1PON3O"
      },
      "execution_count": 3,
      "outputs": []
    },
    {
      "cell_type": "code",
      "source": [
        "df.head()"
      ],
      "metadata": {
        "id": "TPcYEEpqONz1"
      },
      "execution_count": null,
      "outputs": []
    },
    {
      "cell_type": "code",
      "source": [
        "df.info()"
      ],
      "metadata": {
        "id": "DxqQo7PEONxE"
      },
      "execution_count": null,
      "outputs": []
    },
    {
      "cell_type": "code",
      "source": [
        "df['Close'].plot()"
      ],
      "metadata": {
        "id": "J-3LzVghONuI"
      },
      "execution_count": null,
      "outputs": []
    },
    {
      "cell_type": "code",
      "source": [
        "len(df)"
      ],
      "metadata": {
        "colab": {
          "base_uri": "https://localhost:8080/"
        },
        "id": "Ay8TzCauONrU",
        "outputId": "b5001026-df8f-418d-8c15-0e8053fc7dbd"
      },
      "execution_count": 10,
      "outputs": [
        {
          "output_type": "execute_result",
          "data": {
            "text/plain": [
              "4774"
            ]
          },
          "metadata": {},
          "execution_count": 10
        }
      ]
    },
    {
      "cell_type": "code",
      "source": [
        "airtel_close=df['Close']\n",
        "airtel_close.shape"
      ],
      "metadata": {
        "colab": {
          "base_uri": "https://localhost:8080/"
        },
        "id": "sV5d66lFONoc",
        "outputId": "8857c896-6875-427a-abb6-b493f0192dc4"
      },
      "execution_count": 12,
      "outputs": [
        {
          "output_type": "execute_result",
          "data": {
            "text/plain": [
              "(4774,)"
            ]
          },
          "metadata": {},
          "execution_count": 12
        }
      ]
    },
    {
      "cell_type": "code",
      "source": [
        "airtel_close.reset_index(drop=True,inplace=True)\n",
        "airtel_close.shape"
      ],
      "metadata": {
        "colab": {
          "base_uri": "https://localhost:8080/"
        },
        "id": "-VvykpJ5hqtU",
        "outputId": "8cdba192-b332-4f3f-ef69-852fc1d7446b"
      },
      "execution_count": 15,
      "outputs": [
        {
          "output_type": "execute_result",
          "data": {
            "text/plain": [
              "(4774, 1)"
            ]
          },
          "metadata": {},
          "execution_count": 15
        }
      ]
    },
    {
      "cell_type": "code",
      "source": [
        "airtel_close=pd.DataFrame(airtel_close)"
      ],
      "metadata": {
        "id": "p0lLVSafONlz"
      },
      "execution_count": 13,
      "outputs": []
    },
    {
      "cell_type": "code",
      "source": [
        "airtel_close"
      ],
      "metadata": {
        "id": "SmaSigtwhnm6"
      },
      "execution_count": null,
      "outputs": []
    },
    {
      "cell_type": "code",
      "source": [
        "train=airtel_close.iloc[:4750]\n",
        "test=airtel_close.iloc[4751:]"
      ],
      "metadata": {
        "id": "gP-whhZVONjG"
      },
      "execution_count": 16,
      "outputs": []
    },
    {
      "cell_type": "code",
      "source": [
        "from sklearn.preprocessing import MinMaxScaler"
      ],
      "metadata": {
        "id": "03m0ldq0ii_O"
      },
      "execution_count": 17,
      "outputs": []
    },
    {
      "cell_type": "code",
      "source": [
        "scaler=MinMaxScaler()"
      ],
      "metadata": {
        "id": "9TsK8AlQir75"
      },
      "execution_count": 18,
      "outputs": []
    },
    {
      "cell_type": "code",
      "source": [
        "scaler.fit(train)"
      ],
      "metadata": {
        "colab": {
          "base_uri": "https://localhost:8080/",
          "height": 74
        },
        "id": "6uoxCPGsjQyZ",
        "outputId": "d3df1e93-e8da-42db-a38f-368a44786f4e"
      },
      "execution_count": 19,
      "outputs": [
        {
          "output_type": "execute_result",
          "data": {
            "text/plain": [
              "MinMaxScaler()"
            ],
            "text/html": [
              "<style>#sk-container-id-1 {color: black;background-color: white;}#sk-container-id-1 pre{padding: 0;}#sk-container-id-1 div.sk-toggleable {background-color: white;}#sk-container-id-1 label.sk-toggleable__label {cursor: pointer;display: block;width: 100%;margin-bottom: 0;padding: 0.3em;box-sizing: border-box;text-align: center;}#sk-container-id-1 label.sk-toggleable__label-arrow:before {content: \"▸\";float: left;margin-right: 0.25em;color: #696969;}#sk-container-id-1 label.sk-toggleable__label-arrow:hover:before {color: black;}#sk-container-id-1 div.sk-estimator:hover label.sk-toggleable__label-arrow:before {color: black;}#sk-container-id-1 div.sk-toggleable__content {max-height: 0;max-width: 0;overflow: hidden;text-align: left;background-color: #f0f8ff;}#sk-container-id-1 div.sk-toggleable__content pre {margin: 0.2em;color: black;border-radius: 0.25em;background-color: #f0f8ff;}#sk-container-id-1 input.sk-toggleable__control:checked~div.sk-toggleable__content {max-height: 200px;max-width: 100%;overflow: auto;}#sk-container-id-1 input.sk-toggleable__control:checked~label.sk-toggleable__label-arrow:before {content: \"▾\";}#sk-container-id-1 div.sk-estimator input.sk-toggleable__control:checked~label.sk-toggleable__label {background-color: #d4ebff;}#sk-container-id-1 div.sk-label input.sk-toggleable__control:checked~label.sk-toggleable__label {background-color: #d4ebff;}#sk-container-id-1 input.sk-hidden--visually {border: 0;clip: rect(1px 1px 1px 1px);clip: rect(1px, 1px, 1px, 1px);height: 1px;margin: -1px;overflow: hidden;padding: 0;position: absolute;width: 1px;}#sk-container-id-1 div.sk-estimator {font-family: monospace;background-color: #f0f8ff;border: 1px dotted black;border-radius: 0.25em;box-sizing: border-box;margin-bottom: 0.5em;}#sk-container-id-1 div.sk-estimator:hover {background-color: #d4ebff;}#sk-container-id-1 div.sk-parallel-item::after {content: \"\";width: 100%;border-bottom: 1px solid gray;flex-grow: 1;}#sk-container-id-1 div.sk-label:hover label.sk-toggleable__label {background-color: #d4ebff;}#sk-container-id-1 div.sk-serial::before {content: \"\";position: absolute;border-left: 1px solid gray;box-sizing: border-box;top: 0;bottom: 0;left: 50%;z-index: 0;}#sk-container-id-1 div.sk-serial {display: flex;flex-direction: column;align-items: center;background-color: white;padding-right: 0.2em;padding-left: 0.2em;position: relative;}#sk-container-id-1 div.sk-item {position: relative;z-index: 1;}#sk-container-id-1 div.sk-parallel {display: flex;align-items: stretch;justify-content: center;background-color: white;position: relative;}#sk-container-id-1 div.sk-item::before, #sk-container-id-1 div.sk-parallel-item::before {content: \"\";position: absolute;border-left: 1px solid gray;box-sizing: border-box;top: 0;bottom: 0;left: 50%;z-index: -1;}#sk-container-id-1 div.sk-parallel-item {display: flex;flex-direction: column;z-index: 1;position: relative;background-color: white;}#sk-container-id-1 div.sk-parallel-item:first-child::after {align-self: flex-end;width: 50%;}#sk-container-id-1 div.sk-parallel-item:last-child::after {align-self: flex-start;width: 50%;}#sk-container-id-1 div.sk-parallel-item:only-child::after {width: 0;}#sk-container-id-1 div.sk-dashed-wrapped {border: 1px dashed gray;margin: 0 0.4em 0.5em 0.4em;box-sizing: border-box;padding-bottom: 0.4em;background-color: white;}#sk-container-id-1 div.sk-label label {font-family: monospace;font-weight: bold;display: inline-block;line-height: 1.2em;}#sk-container-id-1 div.sk-label-container {text-align: center;}#sk-container-id-1 div.sk-container {/* jupyter's `normalize.less` sets `[hidden] { display: none; }` but bootstrap.min.css set `[hidden] { display: none !important; }` so we also need the `!important` here to be able to override the default hidden behavior on the sphinx rendered scikit-learn.org. See: https://github.com/scikit-learn/scikit-learn/issues/21755 */display: inline-block !important;position: relative;}#sk-container-id-1 div.sk-text-repr-fallback {display: none;}</style><div id=\"sk-container-id-1\" class=\"sk-top-container\"><div class=\"sk-text-repr-fallback\"><pre>MinMaxScaler()</pre><b>In a Jupyter environment, please rerun this cell to show the HTML representation or trust the notebook. <br />On GitHub, the HTML representation is unable to render, please try loading this page with nbviewer.org.</b></div><div class=\"sk-container\" hidden><div class=\"sk-item\"><div class=\"sk-estimator sk-toggleable\"><input class=\"sk-toggleable__control sk-hidden--visually\" id=\"sk-estimator-id-1\" type=\"checkbox\" checked><label for=\"sk-estimator-id-1\" class=\"sk-toggleable__label sk-toggleable__label-arrow\">MinMaxScaler</label><div class=\"sk-toggleable__content\"><pre>MinMaxScaler()</pre></div></div></div></div></div>"
            ]
          },
          "metadata": {},
          "execution_count": 19
        }
      ]
    },
    {
      "cell_type": "code",
      "source": [
        "scaled_train=scaler.transform(train)\n",
        "scaled_test=scaler.transform(test)"
      ],
      "metadata": {
        "id": "Uv-sHbXJjQu4"
      },
      "execution_count": 20,
      "outputs": []
    },
    {
      "cell_type": "code",
      "source": [
        "from tensorflow.keras.preprocessing.sequence import TimeseriesGenerator"
      ],
      "metadata": {
        "id": "fg6DBoDrjQsa"
      },
      "execution_count": 21,
      "outputs": []
    },
    {
      "cell_type": "markdown",
      "source": [
        "creating the model"
      ],
      "metadata": {
        "id": "-Jhq_MFKkaIV"
      }
    },
    {
      "cell_type": "code",
      "source": [
        "test.shape"
      ],
      "metadata": {
        "colab": {
          "base_uri": "https://localhost:8080/"
        },
        "id": "9LtHDBNFjQpo",
        "outputId": "fa69e8fc-8668-492f-a933-3a379eea1287"
      },
      "execution_count": 22,
      "outputs": [
        {
          "output_type": "execute_result",
          "data": {
            "text/plain": [
              "(23, 1)"
            ]
          },
          "metadata": {},
          "execution_count": 22
        }
      ]
    },
    {
      "cell_type": "code",
      "source": [
        "help(TimeseriesGenerator)"
      ],
      "metadata": {
        "id": "PUey5XIhjQmf"
      },
      "execution_count": null,
      "outputs": []
    },
    {
      "cell_type": "code",
      "source": [
        "length=23\n",
        "batch_size=32\n",
        "\n",
        "generator=TimeseriesGenerator(scaled_train,scaled_train,\n",
        "                              length=length,batch_size=batch_size)\n",
        "\n",
        "#will create an object with train - length, and last 23 will be predicted and validated"
      ],
      "metadata": {
        "id": "w4hjXypEjQjr"
      },
      "execution_count": 24,
      "outputs": []
    },
    {
      "cell_type": "code",
      "source": [
        "from tensorflow.keras.models import Sequential\n",
        "from tensorflow.keras.layers import Dense,SimpleRNN,LSTM, Dropout"
      ],
      "metadata": {
        "id": "XuzfwXUmmHux"
      },
      "execution_count": 25,
      "outputs": []
    },
    {
      "cell_type": "code",
      "source": [
        "n_features=1"
      ],
      "metadata": {
        "id": "cxBrghj7mHrN"
      },
      "execution_count": 26,
      "outputs": []
    },
    {
      "cell_type": "code",
      "source": [
        "model=Sequential()\n",
        "model.add(SimpleRNN(30,input_shape=(length,n_features)))\n",
        "\n",
        "model.add(Dropout(rate=0.2))\n",
        "model.add(Dense(1))\n",
        "model.compile(optimizer='adam',loss='mse')"
      ],
      "metadata": {
        "id": "YRjnAt2FmHox"
      },
      "execution_count": 27,
      "outputs": []
    },
    {
      "cell_type": "code",
      "source": [
        "model.summary()"
      ],
      "metadata": {
        "id": "9gkf1mmmmHmW"
      },
      "execution_count": null,
      "outputs": []
    },
    {
      "cell_type": "code",
      "source": [
        "model.fit_generator(generator,epochs=30,shuffle=False )"
      ],
      "metadata": {
        "id": "R5QQq2CXmHjs"
      },
      "execution_count": null,
      "outputs": []
    },
    {
      "cell_type": "code",
      "source": [
        "losses=pd.DataFrame(model.history.history)"
      ],
      "metadata": {
        "id": "WTT0a8_6mHg-"
      },
      "execution_count": 64,
      "outputs": []
    },
    {
      "cell_type": "code",
      "source": [
        "losses.plot()"
      ],
      "metadata": {
        "id": "ScQG5tp0o3Qm"
      },
      "execution_count": null,
      "outputs": []
    },
    {
      "cell_type": "markdown",
      "source": [
        "Evaluate the TestSet\n"
      ],
      "metadata": {
        "id": "ZMpfafCDqgHv"
      }
    },
    {
      "cell_type": "code",
      "source": [
        " first_batch=scaled_train[-length:]"
      ],
      "metadata": {
        "id": "4DdTMo3vo3NN"
      },
      "execution_count": 66,
      "outputs": []
    },
    {
      "cell_type": "code",
      "source": [
        "first_batch"
      ],
      "metadata": {
        "id": "bFZNLsXso3Kj"
      },
      "execution_count": null,
      "outputs": []
    },
    {
      "cell_type": "code",
      "source": [
        "first_batch=first_batch.reshape((1,length,1))"
      ],
      "metadata": {
        "id": "8Ml3_RVto3H0"
      },
      "execution_count": 68,
      "outputs": []
    },
    {
      "cell_type": "code",
      "source": [
        "first_batch"
      ],
      "metadata": {
        "id": "rAOanm3Yo3FI"
      },
      "execution_count": null,
      "outputs": []
    },
    {
      "cell_type": "code",
      "source": [
        "model.predict(first_batch)"
      ],
      "metadata": {
        "colab": {
          "base_uri": "https://localhost:8080/"
        },
        "id": "GFyMfkqQo3Cg",
        "outputId": "d0c9eeac-746d-4da3-9622-019914f4f1da"
      },
      "execution_count": 72,
      "outputs": [
        {
          "output_type": "stream",
          "name": "stdout",
          "text": [
            "1/1 [==============================] - 0s 15ms/step\n"
          ]
        },
        {
          "output_type": "execute_result",
          "data": {
            "text/plain": [
              "array([[0.4598553]], dtype=float32)"
            ]
          },
          "metadata": {},
          "execution_count": 72
        }
      ]
    },
    {
      "cell_type": "code",
      "source": [
        "test_predictions=[]\n",
        "first_batch=scaled_train[-length:]\n",
        "cur_batch=first_batch.reshape((1,length,n_features))\n",
        "for i in range(len(test)):\n",
        "  cur_pred=model.predict(cur_batch)[0]\n",
        "  test_predictions.append(cur_pred)\n",
        "  cur_batch=np.append(cur_batch[:,1:,:],[[cur_pred]],axis=1)"
      ],
      "metadata": {
        "id": "_HaKjHtFo2_2"
      },
      "execution_count": null,
      "outputs": []
    },
    {
      "cell_type": "code",
      "source": [
        "test_predictions"
      ],
      "metadata": {
        "id": "JHYPaVACsqTH"
      },
      "execution_count": null,
      "outputs": []
    },
    {
      "cell_type": "code",
      "source": [
        "true_predictions=scaler.inverse_transform(test_predictions)"
      ],
      "metadata": {
        "id": "n8k-GIMqsqQS"
      },
      "execution_count": 76,
      "outputs": []
    },
    {
      "cell_type": "code",
      "source": [
        "true_predictions"
      ],
      "metadata": {
        "id": "Q79GktgRsqN3"
      },
      "execution_count": null,
      "outputs": []
    },
    {
      "cell_type": "code",
      "source": [
        "test['predictions']=true_predictions"
      ],
      "metadata": {
        "id": "rPJZY69psqLR"
      },
      "execution_count": 78,
      "outputs": []
    },
    {
      "cell_type": "code",
      "source": [
        "test"
      ],
      "metadata": {
        "id": "nN1QmZ0BsqIs"
      },
      "execution_count": null,
      "outputs": []
    },
    {
      "cell_type": "code",
      "source": [
        "test.plot(figsize=(12,8))\n",
        "airtel_close.plot()"
      ],
      "metadata": {
        "id": "ttnCbU9jsqGK"
      },
      "execution_count": null,
      "outputs": []
    },
    {
      "cell_type": "markdown",
      "source": [
        "Create for Full Model"
      ],
      "metadata": {
        "id": "sry6gfOXt6rF"
      }
    },
    {
      "cell_type": "code",
      "source": [
        "full_scaler=MinMaxScaler()\n",
        "scaled_full_data=full_scaler.fit_transform(airtel_close)"
      ],
      "metadata": {
        "id": "VTisTaKWsqD7"
      },
      "execution_count": 81,
      "outputs": []
    },
    {
      "cell_type": "code",
      "source": [
        "generator=TimeseriesGenerator(scaled_full_data,scaled_full_data,\n",
        "                              length=length,batch_size=32)"
      ],
      "metadata": {
        "id": "cFGARLohsqBK"
      },
      "execution_count": 82,
      "outputs": []
    },
    {
      "cell_type": "code",
      "source": [
        "model=Sequential()\n",
        "model.add(SimpleRNN(30,input_shape=(length,n_features)))\n",
        "\n",
        "model.add(Dropout(rate=0.2))\n",
        "model.add(Dense(1))\n",
        "model.compile(optimizer='adam',loss='mse')"
      ],
      "metadata": {
        "id": "B_7FhVJbu4xo"
      },
      "execution_count": 83,
      "outputs": []
    },
    {
      "cell_type": "code",
      "source": [
        "model.fit_generator(generator,epochs=30,shuffle=False )"
      ],
      "metadata": {
        "id": "6i2paAu2vEBA"
      },
      "execution_count": null,
      "outputs": []
    },
    {
      "cell_type": "code",
      "source": [
        "full_model_losses=pd.DataFrame(model.history.history)"
      ],
      "metadata": {
        "id": "rZLfidpqvD96"
      },
      "execution_count": 85,
      "outputs": []
    },
    {
      "cell_type": "code",
      "source": [
        "full_model_losses.plot()"
      ],
      "metadata": {
        "id": "Ufb0cqECvD7i"
      },
      "execution_count": null,
      "outputs": []
    },
    {
      "cell_type": "code",
      "source": [
        "fore_cast=[]\n",
        "first_batch=scaled_train[-length:]\n",
        "cur_batch=first_batch.reshape((1,length,n_features))\n",
        "for i in range(len(test)):\n",
        "  cur_pred=model.predict(cur_batch)[0]\n",
        "  fore_cast.append(cur_pred)\n",
        "  cur_batch=np.append(cur_batch[:,1:,:],[[cur_pred]],axis=1)"
      ],
      "metadata": {
        "id": "LpMxtQwFvD4Y"
      },
      "execution_count": null,
      "outputs": []
    },
    {
      "cell_type": "code",
      "source": [
        "fore_cast=scaler.inverse_transform(fore_cast)\n",
        "fore_cast"
      ],
      "metadata": {
        "colab": {
          "base_uri": "https://localhost:8080/"
        },
        "id": "fv17IX8svD1n",
        "outputId": "1631bf39-8ce6-44ab-9ccf-453a620a09c1"
      },
      "execution_count": 89,
      "outputs": [
        {
          "output_type": "execute_result",
          "data": {
            "text/plain": [
              "array([[530.96181123],\n",
              "       [529.83061551],\n",
              "       [529.41574826],\n",
              "       [530.283186  ],\n",
              "       [530.75064021],\n",
              "       [530.18298431],\n",
              "       [529.77885178],\n",
              "       [529.25808619],\n",
              "       [528.61838255],\n",
              "       [527.96033769],\n",
              "       [527.39666615],\n",
              "       [526.48770546],\n",
              "       [526.27248423],\n",
              "       [525.1938096 ],\n",
              "       [524.72421504],\n",
              "       [524.39937454],\n",
              "       [523.4736532 ],\n",
              "       [523.0475573 ],\n",
              "       [522.69492507],\n",
              "       [522.02035006],\n",
              "       [521.58022658],\n",
              "       [521.22927371],\n",
              "       [520.83880653]])"
            ]
          },
          "metadata": {},
          "execution_count": 89
        }
      ]
    },
    {
      "cell_type": "code",
      "source": [
        "fore_cast.flatten()"
      ],
      "metadata": {
        "colab": {
          "base_uri": "https://localhost:8080/"
        },
        "id": "ZISo2pKqvDzN",
        "outputId": "9d54f2c5-228c-45c7-eaed-137a1f56f6c1"
      },
      "execution_count": 90,
      "outputs": [
        {
          "output_type": "execute_result",
          "data": {
            "text/plain": [
              "array([530.96181123, 529.83061551, 529.41574826, 530.283186  ,\n",
              "       530.75064021, 530.18298431, 529.77885178, 529.25808619,\n",
              "       528.61838255, 527.96033769, 527.39666615, 526.48770546,\n",
              "       526.27248423, 525.1938096 , 524.72421504, 524.39937454,\n",
              "       523.4736532 , 523.0475573 , 522.69492507, 522.02035006,\n",
              "       521.58022658, 521.22927371, 520.83880653])"
            ]
          },
          "metadata": {},
          "execution_count": 90
        }
      ]
    },
    {
      "cell_type": "code",
      "source": [
        "df_array=np.array(airtel_close)\n",
        "df_array"
      ],
      "metadata": {
        "colab": {
          "base_uri": "https://localhost:8080/"
        },
        "id": "-MTbQe7Pw8Pg",
        "outputId": "64085147-0479-485a-bd7c-a1e5a6f1d151"
      },
      "execution_count": 91,
      "outputs": [
        {
          "output_type": "execute_result",
          "data": {
            "text/plain": [
              "array([[ 44.35],\n",
              "       [ 41.7 ],\n",
              "       [ 41.25],\n",
              "       ...,\n",
              "       [544.3 ],\n",
              "       [540.85],\n",
              "       [536.75]])"
            ]
          },
          "metadata": {},
          "execution_count": 91
        }
      ]
    },
    {
      "cell_type": "code",
      "source": [
        "full_data=pd.DataFrame(np.concatenate((df_array.flatten(),fore_cast.flatten())))"
      ],
      "metadata": {
        "id": "rONqhmjzxUFi"
      },
      "execution_count": 94,
      "outputs": []
    },
    {
      "cell_type": "code",
      "source": [
        "full_data.plot();"
      ],
      "metadata": {
        "id": "JkBrfpf9w8MU"
      },
      "execution_count": null,
      "outputs": []
    },
    {
      "cell_type": "markdown",
      "source": [
        "LSTM MOdel"
      ],
      "metadata": {
        "id": "eglEcGiqxtA1"
      }
    },
    {
      "cell_type": "markdown",
      "source": [],
      "metadata": {
        "id": "lJ2sBiOLxs9S"
      }
    },
    {
      "cell_type": "code",
      "source": [
        "from tensorflow.keras.callbacks import EarlyStopping\n",
        "early_stop=EarlyStopping(monitor='val_loss',patience=5)"
      ],
      "metadata": {
        "id": "V7mXPtPtw8Js"
      },
      "execution_count": 97,
      "outputs": []
    },
    {
      "cell_type": "code",
      "source": [
        "length"
      ],
      "metadata": {
        "colab": {
          "base_uri": "https://localhost:8080/"
        },
        "id": "xetxj2waw8G6",
        "outputId": "ccc0e4f4-ff80-4ef8-af87-29bc5247dda7"
      },
      "execution_count": 99,
      "outputs": [
        {
          "output_type": "execute_result",
          "data": {
            "text/plain": [
              "23"
            ]
          },
          "metadata": {},
          "execution_count": 99
        }
      ]
    },
    {
      "cell_type": "code",
      "source": [
        "scaled_test.shape"
      ],
      "metadata": {
        "colab": {
          "base_uri": "https://localhost:8080/"
        },
        "id": "PxbBE4gZzHKA",
        "outputId": "d546e587-7848-4c06-bf0c-6469b6e175f2"
      },
      "execution_count": 101,
      "outputs": [
        {
          "output_type": "execute_result",
          "data": {
            "text/plain": [
              "(23, 1)"
            ]
          },
          "metadata": {},
          "execution_count": 101
        }
      ]
    },
    {
      "cell_type": "code",
      "source": [
        "length=22\n",
        "generator=TimeseriesGenerator(scaled_train,scaled_train,\n",
        "                              length=length,batch_size=32)\n",
        "\n",
        "validation_generator=TimeseriesGenerator(scaled_test,scaled_test,\n",
        "                              length=length,batch_size=32)"
      ],
      "metadata": {
        "id": "OiaLmye3zGZi"
      },
      "execution_count": 103,
      "outputs": []
    },
    {
      "cell_type": "code",
      "source": [
        "model=Sequential()\n",
        "model.add(LSTM(30,input_shape=(length,n_features)))\n",
        "\n",
        "model.add(Dropout(rate=0.2))\n",
        "model.add(Dense(1))\n",
        "model.compile(optimizer='adam',loss='mse')"
      ],
      "metadata": {
        "id": "BdltopY4zGWD"
      },
      "execution_count": null,
      "outputs": []
    },
    {
      "cell_type": "code",
      "source": [
        "model.fit_generator(generator,epochs=30,\n",
        "                    validation_data=validation_generator,\n",
        "                    callbacks=[early_stop],shuffle=False )"
      ],
      "metadata": {
        "colab": {
          "base_uri": "https://localhost:8080/"
        },
        "id": "cvemSPgnzGTj",
        "outputId": "c423e3ea-11ec-4742-e0ef-908b7cb58a3c"
      },
      "execution_count": 104,
      "outputs": [
        {
          "output_type": "stream",
          "name": "stdout",
          "text": [
            "Epoch 1/30\n",
            "148/148 [==============================] - 1s 5ms/step - loss: 5.7325e-04 - val_loss: 1.5783e-04\n",
            "Epoch 2/30\n",
            "148/148 [==============================] - 1s 3ms/step - loss: 5.2307e-04 - val_loss: 1.1904e-06\n",
            "Epoch 3/30\n",
            "148/148 [==============================] - 1s 3ms/step - loss: 6.0382e-04 - val_loss: 2.2817e-04\n",
            "Epoch 4/30\n",
            "148/148 [==============================] - 1s 3ms/step - loss: 4.7502e-04 - val_loss: 1.9903e-05\n"
          ]
        },
        {
          "output_type": "execute_result",
          "data": {
            "text/plain": [
              "<keras.src.callbacks.History at 0x7bae5d3c6e00>"
            ]
          },
          "metadata": {},
          "execution_count": 104
        }
      ]
    },
    {
      "cell_type": "code",
      "source": [
        "losses=pd.DataFrame(model.history.history)"
      ],
      "metadata": {
        "id": "ebfVuJFRzGQ9"
      },
      "execution_count": 105,
      "outputs": []
    },
    {
      "cell_type": "code",
      "source": [
        "losses.plot()"
      ],
      "metadata": {
        "id": "Vp3KTZkLzGOa"
      },
      "execution_count": null,
      "outputs": []
    },
    {
      "cell_type": "code",
      "source": [
        "test_predictions=[]\n",
        "first_batch=scaled_train[-length:]\n",
        "cur_batch=first_batch.reshape((1,length,n_features))\n",
        "for i in range(len(test)):\n",
        "  #get prediction 1 time stam ahead([0] is for grabing just the number instead of array)\n",
        "  cur_pred=model.predict(cur_batch)[0]\n",
        "  test_predictions.append(cur_pred)\n",
        "  #update batch to now include prediction and drop first value\n",
        "  cur_batch=np.append(cur_batch[:,1:,:],[[cur_pred]],axis=1)"
      ],
      "metadata": {
        "colab": {
          "base_uri": "https://localhost:8080/"
        },
        "id": "dUAaeN4qzGLy",
        "outputId": "d9c73ea1-e7cc-4e29-ee94-7fb6fb47573d"
      },
      "execution_count": 107,
      "outputs": [
        {
          "output_type": "stream",
          "name": "stdout",
          "text": [
            "1/1 [==============================] - 0s 101ms/step\n",
            "1/1 [==============================] - 0s 16ms/step\n",
            "1/1 [==============================] - 0s 19ms/step\n",
            "1/1 [==============================] - 0s 19ms/step\n",
            "1/1 [==============================] - 0s 17ms/step\n",
            "1/1 [==============================] - 0s 19ms/step\n",
            "1/1 [==============================] - 0s 15ms/step\n",
            "1/1 [==============================] - 0s 18ms/step\n",
            "1/1 [==============================] - 0s 17ms/step\n",
            "1/1 [==============================] - 0s 15ms/step\n",
            "1/1 [==============================] - 0s 16ms/step\n",
            "1/1 [==============================] - 0s 15ms/step\n",
            "1/1 [==============================] - 0s 16ms/step\n",
            "1/1 [==============================] - 0s 16ms/step\n",
            "1/1 [==============================] - 0s 18ms/step\n",
            "1/1 [==============================] - 0s 16ms/step\n",
            "1/1 [==============================] - 0s 18ms/step\n",
            "1/1 [==============================] - 0s 18ms/step\n",
            "1/1 [==============================] - 0s 16ms/step\n",
            "1/1 [==============================] - 0s 19ms/step\n",
            "1/1 [==============================] - 0s 17ms/step\n",
            "1/1 [==============================] - 0s 20ms/step\n",
            "1/1 [==============================] - 0s 17ms/step\n"
          ]
        }
      ]
    },
    {
      "cell_type": "code",
      "source": [
        "true_predictions=scaler.inverse_transform(test_predictions)\n",
        "test['LSTM_predictions']=true_predictions\n",
        "test.plot(figsize=(12,8))"
      ],
      "metadata": {
        "id": "CKsNsHRLzGJM"
      },
      "execution_count": null,
      "outputs": []
    },
    {
      "cell_type": "code",
      "source": [
        "fore_cast=[]\n",
        "first_batch=scaled_train[-length:]\n",
        "cur_batch=first_batch.reshape((1,length,n_features))\n",
        "for i in range(22):\n",
        "  #get prediction 1 time stam ahead([0] is for grabing just the number instead of array)\n",
        "  cur_pred=model.predict(cur_batch)[0]\n",
        "  fore_cast.append(cur_pred)\n",
        "  #update batch to now include prediction and drop first value\n",
        "  cur_batch=np.append(cur_batch[:,1:,:],[[cur_pred]],axis=1)"
      ],
      "metadata": {
        "id": "PuwYC96Zw8D_"
      },
      "execution_count": null,
      "outputs": []
    },
    {
      "cell_type": "code",
      "source": [
        "fore_cast=scaler.inverse_transform(fore_cast)\n"
      ],
      "metadata": {
        "id": "Oqlaud-h2doz"
      },
      "execution_count": 115,
      "outputs": []
    },
    {
      "cell_type": "code",
      "source": [
        "full_data=pd.DataFrame(np.concatenate((df_array.flatten(),fore_cast.flatten())))"
      ],
      "metadata": {
        "id": "9e4jv6YJ2dmQ"
      },
      "execution_count": 116,
      "outputs": []
    },
    {
      "cell_type": "code",
      "source": [
        "full_data.plot();"
      ],
      "metadata": {
        "id": "vwtdm-I-2dju"
      },
      "execution_count": null,
      "outputs": []
    },
    {
      "cell_type": "code",
      "source": [
        "fore_cast"
      ],
      "metadata": {
        "id": "m8P4-gP12dgs"
      },
      "execution_count": null,
      "outputs": []
    },
    {
      "cell_type": "code",
      "source": [
        "full_data.tail(30)"
      ],
      "metadata": {
        "id": "d5QaLuQWdxUR"
      },
      "execution_count": null,
      "outputs": []
    },
    {
      "cell_type": "markdown",
      "source": [
        "FB prophet"
      ],
      "metadata": {
        "id": "3YQL9Cm15Y6p"
      }
    },
    {
      "cell_type": "code",
      "source": [
        "df.reset_index(inplace=True)"
      ],
      "metadata": {
        "id": "m13NKw_m5cQE"
      },
      "execution_count": null,
      "outputs": []
    },
    {
      "cell_type": "code",
      "source": [
        "data=df[['Date','close']]"
      ],
      "metadata": {
        "id": "eWVp_pSO5Ujf"
      },
      "execution_count": null,
      "outputs": []
    },
    {
      "cell_type": "code",
      "source": [
        "data.head()"
      ],
      "metadata": {
        "id": "neAU4eMJ5UgA"
      },
      "execution_count": null,
      "outputs": []
    },
    {
      "cell_type": "code",
      "source": [
        "data=data.rename(columns={\"Date\":\"ds\",\"close\":\"y\"})"
      ],
      "metadata": {
        "id": "84JIDD-35UdX"
      },
      "execution_count": null,
      "outputs": []
    },
    {
      "cell_type": "code",
      "source": [
        "data.head()"
      ],
      "metadata": {
        "id": "8pLQ6_3d5Uaz"
      },
      "execution_count": null,
      "outputs": []
    },
    {
      "cell_type": "code",
      "source": [
        "from fbprophet import Prophet\n",
        "m=Prophet(changepoint_prior_scale=0.15,daily_seasonality=True) #the prophet cl;ass model\n",
        "m.fit(data)"
      ],
      "metadata": {
        "id": "pvoJYD8n5UYj"
      },
      "execution_count": null,
      "outputs": []
    },
    {
      "cell_type": "code",
      "source": [
        "future=m.make_future_dataframe(periods=21)#specify the number of days in future\n",
        "prediction=m.predict(future)\n",
        "m.plot(prediction)\n",
        "plt.title(\"Prediction of google stock price using the prophet\")\n",
        "plt.xlabel(\"Date\")\n",
        "plt.ylabel(\"Close Stock Price\")\n",
        "plt.show()"
      ],
      "metadata": {
        "id": "neVUgK505UVy"
      },
      "execution_count": null,
      "outputs": []
    },
    {
      "cell_type": "code",
      "source": [
        "m.plot_components(prediction)\n",
        "plt.show()"
      ],
      "metadata": {
        "id": "NxG5VIiB5UTL"
      },
      "execution_count": null,
      "outputs": []
    },
    {
      "cell_type": "code",
      "source": [],
      "metadata": {
        "id": "fLZhmFkv7d4G"
      },
      "execution_count": null,
      "outputs": []
    },
    {
      "cell_type": "code",
      "source": [],
      "metadata": {
        "id": "RGGM-r-X7d1n"
      },
      "execution_count": null,
      "outputs": []
    },
    {
      "cell_type": "code",
      "source": [],
      "metadata": {
        "id": "JHOKQMlC7dzN"
      },
      "execution_count": null,
      "outputs": []
    },
    {
      "cell_type": "code",
      "source": [],
      "metadata": {
        "id": "Lp_ohE3u7dwj"
      },
      "execution_count": null,
      "outputs": []
    },
    {
      "cell_type": "code",
      "source": [],
      "metadata": {
        "id": "32eyHboI7duv"
      },
      "execution_count": null,
      "outputs": []
    },
    {
      "cell_type": "code",
      "source": [],
      "metadata": {
        "id": "6AcgIeQP7dsD"
      },
      "execution_count": null,
      "outputs": []
    },
    {
      "cell_type": "code",
      "source": [],
      "metadata": {
        "id": "wtZRApGS7dpX"
      },
      "execution_count": null,
      "outputs": []
    },
    {
      "cell_type": "code",
      "source": [],
      "metadata": {
        "id": "jv8vLDNg7dm7"
      },
      "execution_count": null,
      "outputs": []
    }
  ]
}